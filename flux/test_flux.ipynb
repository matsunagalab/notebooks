{
 "cells": [
  {
   "cell_type": "code",
   "execution_count": 5,
   "metadata": {},
   "outputs": [],
   "source": [
    "using Flux"
   ]
  },
  {
   "cell_type": "code",
   "execution_count": 3,
   "metadata": {},
   "outputs": [],
   "source": [
    "f(x) = 3x^2 + 2x + 1;\n",
    "\n"
   ]
  },
  {
   "cell_type": "code",
   "execution_count": 7,
   "metadata": {},
   "outputs": [
    {
     "data": {
      "text/plain": [
       "14.0 (tracked)"
      ]
     },
     "execution_count": 7,
     "metadata": {},
     "output_type": "execute_result"
    }
   ],
   "source": [
    "df(x) = Flux.gradient(f, x)[1]; # df/dx = 6x + 2\n",
    "df(2)"
   ]
  },
  {
   "cell_type": "code",
   "execution_count": 8,
   "metadata": {},
   "outputs": [
    {
     "ename": "ErrorException",
     "evalue": "Use `gradient(...; nest = true)` for nested derivatives",
     "output_type": "error",
     "traceback": [
      "Use `gradient(...; nest = true)` for nested derivatives",
      "",
      "Stacktrace:",
      " [1] error(::String) at ./error.jl:33",
      " [2] (::Tracker.var\"#570#571\"{String})(::Float64) at /Users/yasu/.julia/packages/Tracker/27b5Q/src/Tracker.jl:102",
      " [3] back_(::Tracker.Call{Tracker.var\"#570#571\"{String},Tuple{Nothing,Nothing}}, ::Float64, ::Bool) at /Users/yasu/.julia/packages/Tracker/27b5Q/src/back.jl:35",
      " [4] back(::Tracker.Tracked{Float64}, ::Int64, ::Bool) at /Users/yasu/.julia/packages/Tracker/27b5Q/src/back.jl:58",
      " [5] #back!#15 at /Users/yasu/.julia/packages/Tracker/27b5Q/src/back.jl:77 [inlined]",
      " [6] #back!#32 at /Users/yasu/.julia/packages/Tracker/27b5Q/src/lib/real.jl:16 [inlined]",
      " [7] back!(::Tracker.TrackedReal{Float64}) at /Users/yasu/.julia/packages/Tracker/27b5Q/src/lib/real.jl:14",
      " [8] gradient_(::Function, ::Int64) at /Users/yasu/.julia/packages/Tracker/27b5Q/src/back.jl:4",
      " [9] #gradient#24 at /Users/yasu/.julia/packages/Tracker/27b5Q/src/back.jl:164 [inlined]",
      " [10] gradient at /Users/yasu/.julia/packages/Tracker/27b5Q/src/back.jl:164 [inlined]",
      " [11] d2f(::Int64) at ./In[8]:1",
      " [12] top-level scope at In[8]:2"
     ]
    }
   ],
   "source": [
    "d2f(x) = Flux.gradient(df, x)[1]\n",
    "d2f(2)"
   ]
  },
  {
   "cell_type": "code",
   "execution_count": 9,
   "metadata": {},
   "outputs": [
    {
     "data": {
      "text/plain": [
       "predict (generic function with 1 method)"
      ]
     },
     "execution_count": 9,
     "metadata": {},
     "output_type": "execute_result"
    }
   ],
   "source": [
    "W = rand(2, 5)\n",
    "b = rand(2)\n",
    "\n",
    "predict(x) = W*x .+ b\n"
   ]
  },
  {
   "cell_type": "code",
   "execution_count": 10,
   "metadata": {},
   "outputs": [
    {
     "data": {
      "text/plain": [
       "11.807289289127482"
      ]
     },
     "execution_count": 10,
     "metadata": {},
     "output_type": "execute_result"
    }
   ],
   "source": [
    "function loss(x, y)\n",
    "  ŷ = predict(x)\n",
    "  sum((y .- ŷ).^2)\n",
    "end\n",
    "\n",
    "x, y = rand(5), rand(2) # Dummy data\n",
    "loss(x, y) # ~ 3"
   ]
  },
  {
   "cell_type": "markdown",
   "metadata": {},
   "source": [
    "# Building Layers"
   ]
  },
  {
   "cell_type": "code",
   "execution_count": 11,
   "metadata": {},
   "outputs": [
    {
     "data": {
      "text/plain": [
       "2-element Array{Float64,1}:\n",
       " 2.22418481693637\n",
       " 2.433389591664276"
      ]
     },
     "execution_count": 11,
     "metadata": {},
     "output_type": "execute_result"
    }
   ],
   "source": [
    "W1 = rand(3, 5)\n",
    "b1 = rand(3)\n",
    "layer1(x) = W1 * x .+ b1\n",
    "\n",
    "W2 = rand(2, 3)\n",
    "b2 = rand(2)\n",
    "layer2(x) = W2 * x .+ b2\n",
    "\n",
    "model(x) = layer2(σ.(layer1(x)))\n",
    "\n",
    "model(rand(5)) # => 2-element vector"
   ]
  },
  {
   "cell_type": "code",
   "execution_count": 12,
   "metadata": {},
   "outputs": [
    {
     "name": "stdout",
     "output_type": "stream",
     "text": [
      "search: \u001b[0m\u001b[1mf\u001b[22m\u001b[0m\u001b[1mo\u001b[22m\u001b[0m\u001b[1ml\u001b[22m\u001b[0m\u001b[1md\u001b[22m\u001b[0m\u001b[1ml\u001b[22m map\u001b[0m\u001b[1mf\u001b[22m\u001b[0m\u001b[1mo\u001b[22m\u001b[0m\u001b[1ml\u001b[22m\u001b[0m\u001b[1md\u001b[22m\u001b[0m\u001b[1ml\u001b[22m \u001b[0m\u001b[1mf\u001b[22m\u001b[0m\u001b[1mo\u001b[22m\u001b[0m\u001b[1ml\u001b[22m\u001b[0m\u001b[1md\u001b[22mr map\u001b[0m\u001b[1mf\u001b[22m\u001b[0m\u001b[1mo\u001b[22m\u001b[0m\u001b[1ml\u001b[22m\u001b[0m\u001b[1md\u001b[22mr\n",
      "\n"
     ]
    },
    {
     "data": {
      "text/latex": [
       "\\begin{verbatim}\n",
       "foldl(op, itr; [init])\n",
       "\\end{verbatim}\n",
       "Like \\href{@ref}{\\texttt{reduce}}, but with guaranteed left associativity. If provided, the keyword argument \\texttt{init} will be used exactly once. In general, it will be necessary to provide \\texttt{init} to work with empty collections.\n",
       "\n",
       "\\section{Examples}\n",
       "\\begin{verbatim}\n",
       "julia> foldl(=>, 1:4)\n",
       "((1 => 2) => 3) => 4\n",
       "\n",
       "julia> foldl(=>, 1:4; init=0)\n",
       "(((0 => 1) => 2) => 3) => 4\n",
       "\\end{verbatim}\n"
      ],
      "text/markdown": [
       "```\n",
       "foldl(op, itr; [init])\n",
       "```\n",
       "\n",
       "Like [`reduce`](@ref), but with guaranteed left associativity. If provided, the keyword argument `init` will be used exactly once. In general, it will be necessary to provide `init` to work with empty collections.\n",
       "\n",
       "# Examples\n",
       "\n",
       "```jldoctest\n",
       "julia> foldl(=>, 1:4)\n",
       "((1 => 2) => 3) => 4\n",
       "\n",
       "julia> foldl(=>, 1:4; init=0)\n",
       "(((0 => 1) => 2) => 3) => 4\n",
       "```\n"
      ],
      "text/plain": [
       "\u001b[36m  foldl(op, itr; [init])\u001b[39m\n",
       "\n",
       "  Like \u001b[36mreduce\u001b[39m, but with guaranteed left associativity. If provided, the\n",
       "  keyword argument \u001b[36minit\u001b[39m will be used exactly once. In general, it will be\n",
       "  necessary to provide \u001b[36minit\u001b[39m to work with empty collections.\n",
       "\n",
       "\u001b[1m  Examples\u001b[22m\n",
       "\u001b[1m  ≡≡≡≡≡≡≡≡≡≡\u001b[22m\n",
       "\n",
       "\u001b[36m  julia> foldl(=>, 1:4)\u001b[39m\n",
       "\u001b[36m  ((1 => 2) => 3) => 4\u001b[39m\n",
       "\u001b[36m  \u001b[39m\n",
       "\u001b[36m  julia> foldl(=>, 1:4; init=0)\u001b[39m\n",
       "\u001b[36m  (((0 => 1) => 2) => 3) => 4\u001b[39m"
      ]
     },
     "execution_count": 12,
     "metadata": {},
     "output_type": "execute_result"
    }
   ],
   "source": [
    "?foldl"
   ]
  },
  {
   "cell_type": "code",
   "execution_count": 14,
   "metadata": {},
   "outputs": [
    {
     "name": "stdout",
     "output_type": "stream",
     "text": [
      "search: \u001b[0m\u001b[1ms\u001b[22m\u001b[0m\u001b[1mo\u001b[22m\u001b[0m\u001b[1mf\u001b[22m\u001b[0m\u001b[1mt\u001b[22m\u001b[0m\u001b[1mm\u001b[22m\u001b[0m\u001b[1ma\u001b[22m\u001b[0m\u001b[1mx\u001b[22m \u001b[0m\u001b[1ms\u001b[22m\u001b[0m\u001b[1mo\u001b[22m\u001b[0m\u001b[1mf\u001b[22m\u001b[0m\u001b[1mt\u001b[22m\u001b[0m\u001b[1mm\u001b[22m\u001b[0m\u001b[1ma\u001b[22m\u001b[0m\u001b[1mx\u001b[22m! ∇\u001b[0m\u001b[1ms\u001b[22m\u001b[0m\u001b[1mo\u001b[22m\u001b[0m\u001b[1mf\u001b[22m\u001b[0m\u001b[1mt\u001b[22m\u001b[0m\u001b[1mm\u001b[22m\u001b[0m\u001b[1ma\u001b[22m\u001b[0m\u001b[1mx\u001b[22m ∇\u001b[0m\u001b[1ms\u001b[22m\u001b[0m\u001b[1mo\u001b[22m\u001b[0m\u001b[1mf\u001b[22m\u001b[0m\u001b[1mt\u001b[22m\u001b[0m\u001b[1mm\u001b[22m\u001b[0m\u001b[1ma\u001b[22m\u001b[0m\u001b[1mx\u001b[22m! log\u001b[0m\u001b[1ms\u001b[22m\u001b[0m\u001b[1mo\u001b[22m\u001b[0m\u001b[1mf\u001b[22m\u001b[0m\u001b[1mt\u001b[22m\u001b[0m\u001b[1mm\u001b[22m\u001b[0m\u001b[1ma\u001b[22m\u001b[0m\u001b[1mx\u001b[22m log\u001b[0m\u001b[1ms\u001b[22m\u001b[0m\u001b[1mo\u001b[22m\u001b[0m\u001b[1mf\u001b[22m\u001b[0m\u001b[1mt\u001b[22m\u001b[0m\u001b[1mm\u001b[22m\u001b[0m\u001b[1ma\u001b[22m\u001b[0m\u001b[1mx\u001b[22m! ∇log\u001b[0m\u001b[1ms\u001b[22m\u001b[0m\u001b[1mo\u001b[22m\u001b[0m\u001b[1mf\u001b[22m\u001b[0m\u001b[1mt\u001b[22m\u001b[0m\u001b[1mm\u001b[22m\u001b[0m\u001b[1ma\u001b[22m\u001b[0m\u001b[1mx\u001b[22m\n",
      "\n"
     ]
    },
    {
     "data": {
      "text/latex": [
       "\\begin{verbatim}\n",
       "softmax(x; dims=1)\n",
       "\\end{verbatim}\n",
       "\\href{https://en.wikipedia.org/wiki/Softmax_function}{Softmax} turns input array \\texttt{x}  into probability distributions that sum to 1 along the dimensions specified by \\texttt{dims}. It is semantically equivalent to the following:\n",
       "\n",
       "\\begin{verbatim}\n",
       "softmax(x; dims=1) = exp.(x) ./ sum(exp.(x), dims=dims)\n",
       "\\end{verbatim}\n",
       "with additional manipulations enhancing numerical stability.\n",
       "\n",
       "For a matrix input \\texttt{x} it will by default (\\texttt{dims=1}) treat it as a batch of vectors, with each column independent. Keyword \\texttt{dims=2} will instead treat rows independently,  etc...\n",
       "\n",
       "\\begin{verbatim}\n",
       "julia> softmax([1, 2, 3])\n",
       "3-element Array{Float64,1}:\n",
       "  0.0900306\n",
       "  0.244728\n",
       "  0.665241\n",
       "\\end{verbatim}\n",
       "See also \\href{@ref}{\\texttt{logsoftmax}}.\n",
       "\n"
      ],
      "text/markdown": [
       "```\n",
       "softmax(x; dims=1)\n",
       "```\n",
       "\n",
       "[Softmax](https://en.wikipedia.org/wiki/Softmax_function) turns input array `x`  into probability distributions that sum to 1 along the dimensions specified by `dims`. It is semantically equivalent to the following:\n",
       "\n",
       "```\n",
       "softmax(x; dims=1) = exp.(x) ./ sum(exp.(x), dims=dims)\n",
       "```\n",
       "\n",
       "with additional manipulations enhancing numerical stability.\n",
       "\n",
       "For a matrix input `x` it will by default (`dims=1`) treat it as a batch of vectors, with each column independent. Keyword `dims=2` will instead treat rows independently,  etc...\n",
       "\n",
       "```julia-repl\n",
       "julia> softmax([1, 2, 3])\n",
       "3-element Array{Float64,1}:\n",
       "  0.0900306\n",
       "  0.244728\n",
       "  0.665241\n",
       "```\n",
       "\n",
       "See also [`logsoftmax`](@ref).\n"
      ],
      "text/plain": [
       "\u001b[36m  softmax(x; dims=1)\u001b[39m\n",
       "\n",
       "  Softmax (https://en.wikipedia.org/wiki/Softmax_function) turns input array \u001b[36mx\u001b[39m\n",
       "  into probability distributions that sum to 1 along the dimensions specified\n",
       "  by \u001b[36mdims\u001b[39m. It is semantically equivalent to the following:\n",
       "\n",
       "\u001b[36m  softmax(x; dims=1) = exp.(x) ./ sum(exp.(x), dims=dims)\u001b[39m\n",
       "\n",
       "  with additional manipulations enhancing numerical stability.\n",
       "\n",
       "  For a matrix input \u001b[36mx\u001b[39m it will by default (\u001b[36mdims=1\u001b[39m) treat it as a batch of\n",
       "  vectors, with each column independent. Keyword \u001b[36mdims=2\u001b[39m will instead treat\n",
       "  rows independently, etc...\n",
       "\n",
       "\u001b[36m  julia> softmax([1, 2, 3])\u001b[39m\n",
       "\u001b[36m  3-element Array{Float64,1}:\u001b[39m\n",
       "\u001b[36m    0.0900306\u001b[39m\n",
       "\u001b[36m    0.244728\u001b[39m\n",
       "\u001b[36m    0.665241\u001b[39m\n",
       "\n",
       "  See also \u001b[36mlogsoftmax\u001b[39m."
      ]
     },
     "execution_count": 14,
     "metadata": {},
     "output_type": "execute_result"
    }
   ],
   "source": [
    "?softmax"
   ]
  },
  {
   "cell_type": "code",
   "execution_count": 15,
   "metadata": {},
   "outputs": [
    {
     "data": {
      "text/plain": [
       "Tracked 2-element Array{Float32,1}:\n",
       " 0.5703416f0\n",
       " 0.4296584f0"
      ]
     },
     "execution_count": 15,
     "metadata": {},
     "output_type": "execute_result"
    }
   ],
   "source": [
    "layers = [Dense(10, 5, σ), Dense(5, 2), softmax]\n",
    "\n",
    "model(x) = foldl((x, m) -> m(x), layers, init = x)\n",
    "\n",
    "model(rand(10)) # => 2-element vector"
   ]
  },
  {
   "cell_type": "code",
   "execution_count": 16,
   "metadata": {},
   "outputs": [
    {
     "data": {
      "text/plain": [
       "Tracked 2-element Array{Float32,1}:\n",
       " 0.4832265f0\n",
       " 0.5167735f0"
      ]
     },
     "execution_count": 16,
     "metadata": {},
     "output_type": "execute_result"
    }
   ],
   "source": [
    "model2 = Chain(\n",
    "  Dense(10, 5, σ),\n",
    "  Dense(5, 2),\n",
    "  softmax)\n",
    "\n",
    "model2(rand(10)) # => 2-element vector"
   ]
  },
  {
   "cell_type": "code",
   "execution_count": 17,
   "metadata": {},
   "outputs": [
    {
     "ename": "LoadError",
     "evalue": "UndefVarError: @functor not defined",
     "output_type": "error",
     "traceback": [
      "UndefVarError: @functor not defined",
      ""
     ]
    }
   ],
   "source": [
    "Flux.@functor Affine"
   ]
  },
  {
   "cell_type": "code",
   "execution_count": 18,
   "metadata": {},
   "outputs": [
    {
     "data": {
      "text/plain": [
       "Chain(Conv((3, 3), 3=>16), Conv((3, 3), 16=>32))"
      ]
     },
     "execution_count": 18,
     "metadata": {},
     "output_type": "execute_result"
    }
   ],
   "source": [
    "m = Chain(Conv((3, 3), 3 => 16), Conv((3, 3), 16 => 32))"
   ]
  },
  {
   "cell_type": "code",
   "execution_count": 21,
   "metadata": {},
   "outputs": [
    {
     "ename": "UndefVarError",
     "evalue": "UndefVarError: outdims not defined",
     "output_type": "error",
     "traceback": [
      "UndefVarError: outdims not defined",
      "",
      "Stacktrace:",
      " [1] getproperty(::Module, ::Symbol) at ./Base.jl:26",
      " [2] top-level scope at In[21]:1"
     ]
    }
   ],
   "source": [
    "Flux.outdims(m, (10, 10))"
   ]
  },
  {
   "cell_type": "code",
   "execution_count": null,
   "metadata": {},
   "outputs": [],
   "source": []
  }
 ],
 "metadata": {
  "kernelspec": {
   "display_name": "Julia 1.5.0",
   "language": "julia",
   "name": "julia-1.5"
  },
  "language_info": {
   "file_extension": ".jl",
   "mimetype": "application/julia",
   "name": "julia",
   "version": "1.5.0"
  }
 },
 "nbformat": 4,
 "nbformat_minor": 4
}
