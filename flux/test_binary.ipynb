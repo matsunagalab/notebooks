{
 "cells": [
  {
   "cell_type": "markdown",
   "metadata": {},
   "source": [
    "## Juliaの浮動小数点表現を確かめる\n",
    "https://docs.julialang.org/en/v1/base/numbers/#Core.Float64\n",
    "```\n",
    "Binary format: 1 sign, 11 exponent, 52 fraction bits.\n",
    "\n",
    "```"
   ]
  },
  {
   "cell_type": "code",
   "execution_count": 24,
   "metadata": {},
   "outputs": [
    {
     "name": "stdout",
     "output_type": "stream",
     "text": [
      "bitstring(Float64(1)) = \"0011111111110000000000000000000000000000000000000000000000000000\"\n",
      "bitstring(Float64(-8)) = \"1100000000100000000000000000000000000000000000000000000000000000\"\n"
     ]
    }
   ],
   "source": [
    "# 64bitの浮動小数点表現の2をbitで確認\n",
    "@show bitstring(Float64(1));\n",
    "\n",
    "# -2をbitで確認、先頭ビットがたしかに符号であることがわかる\n",
    "@show bitstring(Float64(-8));\n",
    "\n",
    "# 52 fraction bitsはどうなっている？"
   ]
  },
  {
   "cell_type": "markdown",
   "metadata": {},
   "source": [
    "## Juliaのビット演算を確かめる\n",
    "https://docs.julialang.org/en/v1/manual/mathematical-operations/#Bitwise-Operators"
   ]
  },
  {
   "cell_type": "code",
   "execution_count": 2,
   "metadata": {},
   "outputs": [
    {
     "name": "stdout",
     "output_type": "stream",
     "text": [
      "bitstring(Int64(-2)) = \"1111111111111111111111111111111111111111111111111111111111111110\"\n",
      "bitstring(Int64(-2) >>> 1) = \"0111111111111111111111111111111111111111111111111111111111111111\"\n",
      "bitstring(Int64(-2) >> 1) = \"1111111111111111111111111111111111111111111111111111111111111111\"\n"
     ]
    }
   ],
   "source": [
    "@show bitstring(Int64(-2));\n",
    "\n",
    "# right logical shift\n",
    "@show bitstring(Int64(-2) >>> 1);\n",
    "\n",
    "# right arithmetic shift\n",
    "@show bitstring(Int64(-2) >> 1);"
   ]
  },
  {
   "cell_type": "markdown",
   "metadata": {},
   "source": [
    "## 上位の53bitを使って[0, 1]の浮動小数点へ変換してみる"
   ]
  },
  {
   "cell_type": "markdown",
   "metadata": {},
   "source": [
    "もう１点，ビット列から double の乱数を生成する方法についての提案です．\n",
    "\n",
    "古いメルセンヌツイスタ（https://jpn01.safelinks.protection.outlook.com/?url=http:%2F%2Fwww.math.sci.hiroshima-u.ac.jp%2F~m-mat%2FMT%2Fmt64.html&amp;data=02%7C01%7Cymatsunaga%40mail.saitama-u.ac.jp%7C18e546fd1abd421bbfbd08d85df9a8dc%7C0523af6904254a8d9827ee7292c5d821%7C1%7C0%7C637362674143135272&amp;sdata=VN08c6hwrcWQSF3BnV5kr7Q3iWbdb%2BUoplCzvDERNbY%3D&amp;reserved=0）では，\n",
    "double 型 [0, 1] などの乱数を生成する場合には，\n",
    "\n",
    "long long 型（64bit整数）の乱数を以下の方法で変換して乱数生成していたようです．\n",
    "\n",
    "```\n",
    "/* generates a random number on [0,1]-real-interval */\n",
    "double genrand64_real1(void)\n",
    "{\n",
    "    return (genrand64_int64() >> 11) * (1.0/9007199254740991.0);\n",
    "}\n",
    "```\n",
    "\n",
    "つまり 64 bit の乱数を 11 bit 右シフトして 9007199254740991.0 で割るということです．\n",
    "\n",
    "おそらく 11 bit 右シフトした結果，残りが 53 bit なので，2^53 - 1 = 9007199254740991 で割ることで\n",
    "\n",
    "[0, 1] の範囲に規格化しているのだと思われます．\n",
    "\n",
    "11 bit シフトの理由は，double 型の仮数部が 52 bit であり，\n",
    "\n",
    "\"1.仮数部\" の \"1. \" を考えると実際の精度が 2^{-53} あるためだからだと考えられます．\n",
    "\n",
    "したがって bit 列から乱数を生成する場合には，53 bit の bit 列を用意し，\n",
    "\n",
    "9007199254740991 で割るという処理をしてやれば良いのではないでしょうか．\n"
   ]
  },
  {
   "cell_type": "code",
   "execution_count": 29,
   "metadata": {},
   "outputs": [
    {
     "name": "stdout",
     "output_type": "stream",
     "text": [
      "bitstring(b) = \"0010000100010001111001011011001010001111111110110001010101011010\"\n",
      "bitstring(b_shifted) = \"0000000000000100001000100011110010110110010100011111111101100010\"\n",
      "b_shifted = 1163544059051874\n",
      "b_normalized = 0.12917934045252036\n"
     ]
    }
   ],
   "source": [
    "# 適当な64bitをInt64を使って定義\n",
    "b = Int64(2382938232938239322);\n",
    "@show bitstring(b);\n",
    "\n",
    "# right logical shift by 11 bits\n",
    "b_shifted = b >>> 11;\n",
    "@show bitstring(b_shifted);\n",
    "@show b_shifted;\n",
    "\n",
    "b_normalized = b_shifted / 9007199254740991.0; #自動的にFloat64へ変換される\n",
    "@show b_normalized;"
   ]
  },
  {
   "cell_type": "markdown",
   "metadata": {},
   "source": [
    "## JuliaでバイナリIOを行う"
   ]
  },
  {
   "cell_type": "code",
   "execution_count": 34,
   "metadata": {},
   "outputs": [],
   "source": [
    "# 出力\n",
    "io = open(\"test.bin\", \"w\")\n",
    "\n",
    "for i = 0:9\n",
    "    write(io, bswap(Int64((2)^i))) #ビットが上位から順位並ぶように、bswapでバイトを逆順にしている\n",
    "end\n",
    "\n",
    "close(io)"
   ]
  },
  {
   "cell_type": "code",
   "execution_count": 35,
   "metadata": {},
   "outputs": [
    {
     "name": "stdout",
     "output_type": "stream",
     "text": [
      "00000000: 00000000 00000000 00000000 00000000 00000000 00000000  ......\n",
      "00000006: 00000000 00000001 00000000 00000000 00000000 00000000  ......\n",
      "0000000c: 00000000 00000000 00000000 00000010 00000000 00000000  ......\n",
      "00000012: 00000000 00000000 00000000 00000000 00000000 00000100  ......\n",
      "00000018: 00000000 00000000 00000000 00000000 00000000 00000000  ......\n",
      "0000001e: 00000000 00001000 00000000 00000000 00000000 00000000  ......\n",
      "00000024: 00000000 00000000 00000000 00010000 00000000 00000000  ......\n",
      "0000002a: 00000000 00000000 00000000 00000000 00000000 00100000  ..... \n",
      "00000030: 00000000 00000000 00000000 00000000 00000000 00000000  ......\n",
      "00000036: 00000000 01000000 00000000 00000000 00000000 00000000  .@....\n",
      "0000003c: 00000000 00000000 00000000 10000000 00000000 00000000  ......\n",
      "00000042: 00000000 00000000 00000000 00000000 00000001 00000000  ......\n",
      "00000048: 00000000 00000000 00000000 00000000 00000000 00000000  ......\n",
      "0000004e: 00000010 00000000                                      ..\n"
     ]
    },
    {
     "data": {
      "text/plain": [
       "Process(`\u001b[4mxxd\u001b[24m \u001b[4m-b\u001b[24m \u001b[4mtest.bin\u001b[24m`, ProcessExited(0))"
      ]
     },
     "execution_count": 35,
     "metadata": {},
     "output_type": "execute_result"
    }
   ],
   "source": [
    "# シェルコマンドを実行してファイル内容を確認。\n",
    "# bswapでバイトを逆順にして、ビッグエンディアンで書き込んだので、わかりやすい。\n",
    "run(`xxd -b test.bin`)"
   ]
  },
  {
   "cell_type": "code",
   "execution_count": 36,
   "metadata": {},
   "outputs": [
    {
     "data": {
      "text/plain": [
       "10-element Array{Int64,1}:\n",
       "   1\n",
       "   2\n",
       "   4\n",
       "   8\n",
       "  16\n",
       "  32\n",
       "  64\n",
       " 128\n",
       " 256\n",
       " 512"
      ]
     },
     "execution_count": 36,
     "metadata": {},
     "output_type": "execute_result"
    }
   ],
   "source": [
    "# 入力\n",
    "io = open(\"test.bin\", \"r\")\n",
    "\n",
    "seekend(io)\n",
    "file_size_in_8bit = position(io) # get file size in byte\n",
    "file_size_in_64bit = Int(file_size_in_8bit/8)\n",
    "seekstart(io)\n",
    "\n",
    "d_array = Array{Int64}(undef, 0)\n",
    "for i = 1:file_size_in_64bit\n",
    "    d = bswap(read(io, Int64)) #入力のときもbswapでバイトを逆順にする\n",
    "    push!(d_array, d)\n",
    "end\n",
    "\n",
    "close(io)\n",
    "\n",
    "d_array"
   ]
  },
  {
   "cell_type": "markdown",
   "metadata": {},
   "source": [
    "## 読み込んだ64bit単位の各上位53bitを使って[0,1]の浮動小数点へ変換"
   ]
  },
  {
   "cell_type": "code",
   "execution_count": 7,
   "metadata": {},
   "outputs": [
    {
     "data": {
      "text/plain": [
       "10-element Array{Float64,1}:\n",
       " 0.0\n",
       " 0.0\n",
       " 0.0\n",
       " 2.2204460492503136e-16\n",
       " 1.776356839400251e-15\n",
       " 1.4210854715202007e-14\n",
       " 1.1368683772161605e-13\n",
       " 9.094947017729284e-13\n",
       " 7.275957614183428e-12\n",
       " 5.820766091346742e-11"
      ]
     },
     "execution_count": 7,
     "metadata": {},
     "output_type": "execute_result"
    }
   ],
   "source": [
    "rand_array = similar(d_array, Float64)\n",
    "for i in 1:length(d_array)\n",
    "    d = d_array[i]\n",
    "    d_shifted = d >>> 11\n",
    "    rand_array[i] = d_shifted / 9007199254740991.0 #自動的にFloat64へ変換される\n",
    "end\n",
    "\n",
    "rand_array"
   ]
  },
  {
   "cell_type": "code",
   "execution_count": null,
   "metadata": {},
   "outputs": [],
   "source": [
    "# FORTRAN専用のバイナリファイルとして出力"
   ]
  }
 ],
 "metadata": {
  "kernelspec": {
   "display_name": "Julia 1.5.0",
   "language": "julia",
   "name": "julia-1.5"
  },
  "language_info": {
   "file_extension": ".jl",
   "mimetype": "application/julia",
   "name": "julia",
   "version": "1.5.0"
  }
 },
 "nbformat": 4,
 "nbformat_minor": 4
}
