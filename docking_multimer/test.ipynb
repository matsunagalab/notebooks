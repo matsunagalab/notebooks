{
 "cells": [
  {
   "cell_type": "code",
   "execution_count": 1,
   "metadata": {},
   "outputs": [
    {
     "name": "stderr",
     "output_type": "stream",
     "text": [
      "┌ Info: Precompiling MDToolbox [7965e2f0-a35b-11e8-0207-19c030dd2def]\n",
      "└ @ Base loading.jl:1278\n"
     ]
    }
   ],
   "source": [
    "#@everywhere using DelimitedFiles\n",
    "#@everywhere using Revise, MDToolbox\n",
    "#using DelimitedFiles\n",
    "using Revise, MDToolbox\n",
    "ENV[\"COLUMNS\"]=110; #display width for MDToolbox"
   ]
  },
  {
   "cell_type": "code",
   "execution_count": 2,
   "metadata": {},
   "outputs": [
    {
     "data": {
      "text/plain": [
       "1x951 TrjArray{Float64,Int64}\n",
       "| A                          | A                          |  …   A                          |\n",
       "| 1LYS                       | 1LYS                       |  …   124VAL                     |\n",
       "| 1N                         | 2CA                        |  …   951OXT                     |\n",
       "|    27.84    45.62    53.14 |    27.54    44.35    52.53 |  …       4.33    36.08    31.87 |"
      ]
     },
     "execution_count": 2,
     "metadata": {},
     "output_type": "execute_result"
    }
   ],
   "source": [
    "receptor = mdload(\"9rat.pdb\")"
   ]
  },
  {
   "cell_type": "code",
   "execution_count": 3,
   "metadata": {},
   "outputs": [
    {
     "data": {
      "text/plain": [
       "1x951 TrjArray{Float64,Int64}\n",
       "| A                          | A                          |  …   A                          |\n",
       "| 1LYS                       | 1LYS                       |  …   124VAL                     |\n",
       "| 1N                         | 2CA                        |  …   951OXT                     |\n",
       "|    27.84    45.62    53.14 |    27.54    44.35    52.53 |  …       4.33    36.08    31.87 |"
      ]
     },
     "execution_count": 3,
     "metadata": {},
     "output_type": "execute_result"
    }
   ],
   "source": [
    "receptor = MDToolbox.set_radius(receptor)"
   ]
  },
  {
   "cell_type": "code",
   "execution_count": 4,
   "metadata": {},
   "outputs": [
    {
     "data": {
      "text/plain": [
       "1x951 TrjArray{Float64,Int64}\n",
       "| A                          | A                          |  …   A                          |\n",
       "| 1LYS                       | 1LYS                       |  …   124VAL                     |\n",
       "| 1N                         | 2CA                        |  …   951OXT                     |\n",
       "|    27.84    45.62    53.14 |    27.54    44.35    52.53 |  …       4.33    36.08    31.87 |"
      ]
     },
     "execution_count": 4,
     "metadata": {},
     "output_type": "execute_result"
    }
   ],
   "source": [
    "receptor = MDToolbox.compute_sasa(receptor, 1.4)"
   ]
  },
  {
   "cell_type": "code",
   "execution_count": 27,
   "metadata": {},
   "outputs": [
    {
     "name": "stdout",
     "output_type": "stream",
     "text": [
      "\"step 1\" = \"step 1\"\n",
      "\"step 2\" = \"step 2\"\n",
      "\"step 3\" = \"step 3\"\n",
      "nx = 146\n",
      "ny = 152\n",
      "nz = 142\n",
      "\"step 4\" = \"step 4\"\n",
      "\"step 4.1\" = \"step 4.1\"\n",
      "\"step 4.2\" = \"step 4.2\"\n",
      "\"step 5\" = \"step 5\"\n",
      "0.000000 \n",
      "0.174533 \n",
      "0.349066 \n",
      "0.523599 \n",
      "0.698132 \n",
      "0.872665 \n",
      "1.047198 \n",
      "1.221730 \n",
      "1.396263 \n",
      "1.570796 \n",
      "1.745329 \n",
      "1.919862 \n",
      "2.094395 \n",
      "2.268928 \n",
      "2.443461 \n",
      "2.617994 \n",
      "2.792527 \n",
      "2.967060 \n",
      "3.141593 \n",
      "3.316126 \n",
      "3.490659 \n",
      "3.665191 \n",
      "3.839724 \n",
      "4.014257 \n",
      "4.188790 \n",
      "4.363323 \n",
      "4.537856 \n",
      "4.712389 \n",
      "4.886922 \n",
      "5.061455 \n",
      "5.235988 \n",
      "5.410521 \n",
      "5.585054 \n",
      "5.759587 \n",
      "5.934119 \n",
      "6.108652 \n",
      "6.283185 \n"
     ]
    },
    {
     "data": {
      "text/plain": [
       "(receptor = 1x951 TrjArray{Float64,Int64}\n",
       "| A                          | A                          |  …   A                          |\n",
       "| 1LYS                       | 1LYS                       |  …   124VAL                     |\n",
       "| 1N                         | 2CA                        |  …   951OXT                     |\n",
       "|   -10.01    14.95    10.97 |    -9.93    14.34     9.67 |  …      11.50    -6.31    -2.51 |, ligand = 1x951 TrjArray{Float64,Int64}\n",
       "| A                          | A                          |  …   A                          |\n",
       "| 1LYS                       | 1LYS                       |  …   124VAL                     |\n",
       "| 1N                         | 2CA                        |  …   951OXT                     |\n",
       "|   -12.51    21.50    10.97 |   -11.91    21.39     9.67 |  …      14.36    35.38    -2.51 |, score = 1895.0000000000123)"
      ]
     },
     "execution_count": 27,
     "metadata": {},
     "output_type": "execute_result"
    }
   ],
   "source": [
    "result = MDToolbox.dock_multimer(receptor, nfold=5)"
   ]
  },
  {
   "cell_type": "code",
   "execution_count": 35,
   "metadata": {},
   "outputs": [
    {
     "data": {
      "text/plain": [
       "1895.0000000000123"
      ]
     },
     "execution_count": 35,
     "metadata": {},
     "output_type": "execute_result"
    }
   ],
   "source": [
    "result.score"
   ]
  },
  {
   "cell_type": "code",
   "execution_count": 36,
   "metadata": {},
   "outputs": [
    {
     "data": {
      "text/plain": [
       "1x951 TrjArray{Float64,Int64}\n",
       "| A                          | A                          |  …   A                          |\n",
       "| 1LYS                       | 1LYS                       |  …   124VAL                     |\n",
       "| 1N                         | 2CA                        |  …   951OXT                     |\n",
       "|   -12.51    21.50    10.97 |   -11.91    21.39     9.67 |  …      14.36    35.38    -2.51 |"
      ]
     },
     "execution_count": 36,
     "metadata": {},
     "output_type": "execute_result"
    }
   ],
   "source": [
    "result.ligand"
   ]
  },
  {
   "cell_type": "code",
   "execution_count": 37,
   "metadata": {},
   "outputs": [],
   "source": [
    "writepdb(\"result_receptor.pdb\", result.receptor)\n",
    "writepdb(\"result_ligand.pdb\", result.ligand)"
   ]
  },
  {
   "cell_type": "code",
   "execution_count": 38,
   "metadata": {},
   "outputs": [
    {
     "data": {
      "text/plain": [
       "13.41640786499874"
      ]
     },
     "execution_count": 38,
     "metadata": {},
     "output_type": "execute_result"
    }
   ],
   "source": [
    "com1 = centerofmass(result.receptor)\n",
    "com2 = centerofmass(result.ligand)\n",
    "\n",
    "L = [com2.xyz[1] - com1.xyz[1], com2.xyz[2] - com1.xyz[2]]\n",
    "L_norm = sqrt(L[1]^2 + L[2]^2)\n",
    "\n",
    "nfold = 2.0\n",
    "alpha = (180.0 - (360.0/nfold))/2.0\n",
    "alpha = (alpha / 360.0) * 2.0 * pi\n",
    "\n",
    "d_norm = L_norm / (2.0*cos(alpha))"
   ]
  },
  {
   "cell_type": "code",
   "execution_count": 42,
   "metadata": {},
   "outputs": [
    {
     "name": "stdout",
     "output_type": "stream",
     "text": [
      "Warning: boxsize information discarded in some trajectories\n",
      "Warning: boxsize information discarded in some trajectories\n",
      "Warning: boxsize information discarded in some trajectories\n",
      "Warning: boxsize information discarded in some trajectories\n"
     ]
    }
   ],
   "source": [
    "nfold = 5\n",
    "beta = 360.0/nfold\n",
    "beta = (beta / 360.0) * 2.0 * pi\n",
    "R = [cos(beta) -sin(beta) 0.0; sin(beta) cos(beta) 0.0; 0.0 0.0 1.0]\n",
    "\n",
    "complex = deepcopy(result.receptor)\n",
    "complex.xyz[:, 1:3:end] .= complex.xyz[:, 1:3:end] .+ d_norm\n",
    "\n",
    "for i = 2:nfold\n",
    "    r = rotate_with_matrix(complex[end, :], R)\n",
    "    complex = [complex; r]\n",
    "end"
   ]
  },
  {
   "cell_type": "code",
   "execution_count": 43,
   "metadata": {},
   "outputs": [],
   "source": [
    "writepdb(\"complex.pdb\", complex)"
   ]
  },
  {
   "cell_type": "code",
   "execution_count": 44,
   "metadata": {},
   "outputs": [
    {
     "data": {
      "text/plain": [
       "\"/Users/yasu/gdrive/notebooks/docking_multimer\""
      ]
     },
     "execution_count": 44,
     "metadata": {},
     "output_type": "execute_result"
    }
   ],
   "source": [
    "pwd()"
   ]
  },
  {
   "cell_type": "code",
   "execution_count": null,
   "metadata": {},
   "outputs": [],
   "source": []
  },
  {
   "cell_type": "code",
   "execution_count": null,
   "metadata": {},
   "outputs": [],
   "source": []
  }
 ],
 "metadata": {
  "kernelspec": {
   "display_name": "Julia 1.5.3",
   "language": "julia",
   "name": "julia-1.5"
  },
  "language_info": {
   "file_extension": ".jl",
   "mimetype": "application/julia",
   "name": "julia",
   "version": "1.5.3"
  }
 },
 "nbformat": 4,
 "nbformat_minor": 4
}
